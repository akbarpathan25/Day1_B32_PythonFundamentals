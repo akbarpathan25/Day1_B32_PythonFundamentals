{
 "cells": [
  {
   "cell_type": "code",
   "execution_count": null,
   "metadata": {},
   "outputs": [],
   "source": [
    "Introduction to for looping ***"
   ]
  },
  {
   "cell_type": "code",
   "execution_count": 2,
   "metadata": {},
   "outputs": [
    {
     "name": "stdout",
     "output_type": "stream",
     "text": [
      "('aariz', 'zara', 'sana', 'aaditya', 'sanjay', 'vishal')\n"
     ]
    },
    {
     "data": {
      "text/plain": [
       "tuple"
      ]
     },
     "execution_count": 2,
     "metadata": {},
     "output_type": "execute_result"
    }
   ],
   "source": [
    "students = ('aariz', 'zara', 'sana', 'aaditya', 'sanjay', 'vishal')\n",
    "print(students)\n",
    "type(students)"
   ]
  },
  {
   "cell_type": "code",
   "execution_count": null,
   "metadata": {},
   "outputs": [],
   "source": [
    "General Syntax of for loop\n",
    "\n",
    "for temp_variable in main_variable\n",
    "    print (temp_variable)"
   ]
  },
  {
   "cell_type": "code",
   "execution_count": 5,
   "metadata": {},
   "outputs": [
    {
     "name": "stdout",
     "output_type": "stream",
     "text": [
      "Keep up the Good work, Aariz!\n",
      "Keep up the Good work, Zara!\n",
      "Keep up the Good work, Sana!\n",
      "Keep up the Good work, Aaditya!\n",
      "Keep up the Good work, Sanjay!\n",
      "Keep up the Good work, Vishal!\n"
     ]
    }
   ],
   "source": [
    "for x in students:\n",
    "    print(f\"Keep up the Good work, {x.title()}!\")"
   ]
  },
  {
   "cell_type": "code",
   "execution_count": null,
   "metadata": {},
   "outputs": [],
   "source": []
  },
  {
   "cell_type": "code",
   "execution_count": 6,
   "metadata": {},
   "outputs": [
    {
     "name": "stdout",
     "output_type": "stream",
     "text": [
      "aariz\n",
      "zara\n",
      "sana\n",
      "aaditya\n",
      "sanjay\n",
      "vishal\n"
     ]
    }
   ],
   "source": [
    "for test in students:\n",
    "    print(test)"
   ]
  },
  {
   "cell_type": "code",
   "execution_count": 7,
   "metadata": {},
   "outputs": [
    {
     "name": "stdout",
     "output_type": "stream",
     "text": [
      "aariz\n",
      "zara\n",
      "sana\n",
      "aaditya\n",
      "sanjay\n",
      "vishal\n"
     ]
    }
   ],
   "source": [
    "for batman in students:\n",
    "    print (batman)"
   ]
  },
  {
   "cell_type": "code",
   "execution_count": null,
   "metadata": {},
   "outputs": [],
   "source": [
    "#enhancement of code --"
   ]
  },
  {
   "cell_type": "code",
   "execution_count": 9,
   "metadata": {},
   "outputs": [
    {
     "name": "stdout",
     "output_type": "stream",
     "text": [
      "Keep up the Good work, Aariz.\n",
      "Send me the practise files for today, Aariz.\n",
      "Keep up the Good work, Zara.\n",
      "Send me the practise files for today, Zara.\n",
      "Keep up the Good work, Sana.\n",
      "Send me the practise files for today, Sana.\n",
      "Keep up the Good work, Aaditya.\n",
      "Send me the practise files for today, Aaditya.\n",
      "Keep up the Good work, Sanjay.\n",
      "Send me the practise files for today, Sanjay.\n",
      "Keep up the Good work, Vishal.\n",
      "Send me the practise files for today, Vishal.\n"
     ]
    }
   ],
   "source": [
    "for x in students:\n",
    "    print(f\"Keep up the Good work, {x.title()}.\")\n",
    "    print(f\"Send me the practise files for today, {x.title()}.\")\n"
   ]
  },
  {
   "cell_type": "code",
   "execution_count": 10,
   "metadata": {},
   "outputs": [
    {
     "name": "stdout",
     "output_type": "stream",
     "text": [
      "Keep up the Good work, Aariz.\n",
      "Send me the practise files for today, Aariz.\n",
      "\n",
      "Keep up the Good work, Zara.\n",
      "Send me the practise files for today, Zara.\n",
      "\n",
      "Keep up the Good work, Sana.\n",
      "Send me the practise files for today, Sana.\n",
      "\n",
      "Keep up the Good work, Aaditya.\n",
      "Send me the practise files for today, Aaditya.\n",
      "\n",
      "Keep up the Good work, Sanjay.\n",
      "Send me the practise files for today, Sanjay.\n",
      "\n",
      "Keep up the Good work, Vishal.\n",
      "Send me the practise files for today, Vishal.\n",
      "\n"
     ]
    }
   ],
   "source": [
    "for x in students:\n",
    "    print(f\"Keep up the Good work, {x.title()}.\")\n",
    "    print(f\"Send me the practise files for today, {x.title()}.\\n\")"
   ]
  },
  {
   "cell_type": "code",
   "execution_count": null,
   "metadata": {},
   "outputs": [],
   "source": [
    "#Zen of Python\n",
    "I missed network connection /Audion connection at this time /moment.\n",
    "So, I did not understand this part  .\n",
    "\n",
    "Requesting you to please provide me details of it."
   ]
  },
  {
   "cell_type": "code",
   "execution_count": null,
   "metadata": {},
   "outputs": [],
   "source": []
  },
  {
   "cell_type": "code",
   "execution_count": 11,
   "metadata": {},
   "outputs": [
    {
     "name": "stdout",
     "output_type": "stream",
     "text": [
      "Keep up the Good work, Aariz.\n",
      "Send me the practise files for today, Aariz.\n",
      "\n",
      "Keep up the Good work, Zara.\n",
      "Send me the practise files for today, Zara.\n",
      "\n",
      "Keep up the Good work, Sana.\n",
      "Send me the practise files for today, Sana.\n",
      "\n",
      "Keep up the Good work, Aaditya.\n",
      "Send me the practise files for today, Aaditya.\n",
      "\n",
      "Keep up the Good work, Sanjay.\n",
      "Send me the practise files for today, Sanjay.\n",
      "\n",
      "Keep up the Good work, Vishal.\n",
      "Send me the practise files for today, Vishal.\n",
      "\n",
      "Thank you everyone for joining the session today. Bye.\n"
     ]
    }
   ],
   "source": [
    "for x in students:\n",
    "    print(f\"Keep up the Good work, {x.title()}.\")\n",
    "    print(f\"Send me the practise files for today, {x.title()}.\\n\") \n",
    "print(\"Thank you everyone for joining the session today. Bye.\")"
   ]
  },
  {
   "cell_type": "code",
   "execution_count": null,
   "metadata": {},
   "outputs": [],
   "source": []
  }
 ],
 "metadata": {
  "kernelspec": {
   "display_name": "Python 3",
   "language": "python",
   "name": "python3"
  },
  "language_info": {
   "codemirror_mode": {
    "name": "ipython",
    "version": 3
   },
   "file_extension": ".py",
   "mimetype": "text/x-python",
   "name": "python",
   "nbconvert_exporter": "python",
   "pygments_lexer": "ipython3",
   "version": "3.8.5"
  }
 },
 "nbformat": 4,
 "nbformat_minor": 4
}
